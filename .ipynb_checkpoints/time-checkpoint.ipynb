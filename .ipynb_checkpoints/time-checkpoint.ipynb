{
 "cells": [
  {
   "cell_type": "code",
   "execution_count": 10,
   "id": "95df358f-3a77-4f49-8606-42963e0a4e2a",
   "metadata": {},
   "outputs": [
    {
     "name": "stdout",
     "output_type": "stream",
     "text": [
      "time.struct_time(tm_year=2023, tm_mon=6, tm_mday=13, tm_hour=10, tm_min=50, tm_sec=13, tm_wday=1, tm_yday=164, tm_isdst=0)\n",
      "2023-06-13 10:50:13\n"
     ]
    }
   ],
   "source": [
    "import time\n",
    "# print(time.localtime(time.time()))\n",
    "print(time.localtime())\n",
    "# print(type(time.localtime()).__name__)\n",
    "print(time.strftime('%Y-%m-%d %H:%M:%S', time.localtime()))"
   ]
  },
  {
   "cell_type": "code",
   "execution_count": 16,
   "id": "4effcf1f-ffce-4cbd-8a13-1c3a0767289e",
   "metadata": {},
   "outputs": [
    {
     "name": "stdout",
     "output_type": "stream",
     "text": [
      "8\n"
     ]
    }
   ],
   "source": [
    "import time\n",
    "import math\n",
    "print(int(abs(time.timezone) / 60 / 60))"
   ]
  },
  {
   "cell_type": "code",
   "execution_count": 17,
   "id": "9efd206a-31db-454c-a543-f470c8e74807",
   "metadata": {
    "scrolled": true
   },
   "outputs": [
    {
     "ename": "NameError",
     "evalue": "name 'socket' is not defined",
     "output_type": "error",
     "traceback": [
      "\u001b[0;31m---------------------------------------------------------------------------\u001b[0m",
      "\u001b[0;31mNameError\u001b[0m                                 Traceback (most recent call last)",
      "Cell \u001b[0;32mIn[17], line 1\u001b[0m\n\u001b[0;32m----> 1\u001b[0m \u001b[38;5;28mprint\u001b[39m(\u001b[43msocket\u001b[49m)\n",
      "\u001b[0;31mNameError\u001b[0m: name 'socket' is not defined"
     ]
    }
   ],
   "source": [
    "print(socket)"
   ]
  },
  {
   "cell_type": "code",
   "execution_count": 25,
   "id": "d2aa0255-4c2a-40c1-b43c-72589a66df58",
   "metadata": {},
   "outputs": [
    {
     "name": "stdout",
     "output_type": "stream",
     "text": [
      "5 1\n",
      "[64, 25, 12, 22, 11] 1\n",
      "4 2\n",
      "[25, 64, 12, 22, 11] 2\n",
      "[12, 64, 25, 22, 11] 2\n",
      "3 3\n",
      "[12, 12, 64, 22, 11] 3\n",
      "2 4\n",
      "[12, 12, 22, 64, 11] 4\n",
      "[11, 12, 22, 64, 12] 4\n",
      "[11, 11, 22, 64, 12] 4\n",
      "[11, 11, 11, 64, 22] 4\n",
      "[11, 11, 11, 11, 64]\n"
     ]
    }
   ],
   "source": [
    "# selection sort\n",
    "def selection_sort_m(sorting_list = []):\n",
    "    rest_item = len(sorting_list)\n",
    "    cur_index = 1\n",
    "    while rest_item > 1:\n",
    "        print(rest_item, cur_index)\n",
    "        cur_value = sorting_list[cur_index]\n",
    "        for c in range(0, cur_index):\n",
    "            if sorting_list[c] > cur_value:\n",
    "                print(sorting_list, cur_index)\n",
    "                sorting_list[cur_index] = sorting_list[c]\n",
    "                sorting_list[c] = cur_value\n",
    "        else:\n",
    "            cur_index += 1\n",
    "            rest_item -= 1\n",
    "    print(sorting_list)\n",
    "\n",
    "selection_sort_m([64, 25, 12, 22, 11])\n",
    "                \n",
    "        \n",
    "        \n",
    "        "
   ]
  },
  {
   "cell_type": "code",
   "execution_count": 5,
   "id": "b324f64d-0bd9-4bac-8a04-3d80d77fa294",
   "metadata": {},
   "outputs": [
    {
     "name": "stdout",
     "output_type": "stream",
     "text": [
      "【摸鱼办】提醒您：\n",
      "    今天是2023年06月14日\n"
     ]
    }
   ],
   "source": [
    "import time\n",
    "def create_moyu_paperwork():\n",
    "    time_tuple = time.localtime()\n",
    "    format_time = time.strftime(\"%Y年%m月%d日\", time_tuple)\n",
    "    print(\"【摸鱼办】提醒您：\")\n",
    "    print(f\"    今天是{format_time}\")\n",
    "    \n",
    "create_moyu_paperwork()\n",
    "    "
   ]
  },
  {
   "cell_type": "code",
   "execution_count": 3,
   "id": "16f94fc2-0972-4f44-978e-82348dd54ea1",
   "metadata": {},
   "outputs": [
    {
     "name": "stdout",
     "output_type": "stream",
     "text": [
      "2023\n"
     ]
    }
   ],
   "source": [
    "import time\n",
    "print(time.localtime()[0])"
   ]
  },
  {
   "cell_type": "code",
   "execution_count": null,
   "id": "65a222b1-38b2-4897-a734-aa9eb62ef302",
   "metadata": {},
   "outputs": [],
   "source": []
  }
 ],
 "metadata": {
  "kernelspec": {
   "display_name": "Python 3 (ipykernel)",
   "language": "python",
   "name": "python3"
  },
  "language_info": {
   "codemirror_mode": {
    "name": "ipython",
    "version": 3
   },
   "file_extension": ".py",
   "mimetype": "text/x-python",
   "name": "python",
   "nbconvert_exporter": "python",
   "pygments_lexer": "ipython3",
   "version": "3.11.3"
  }
 },
 "nbformat": 4,
 "nbformat_minor": 5
}
