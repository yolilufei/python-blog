{
 "cells": [
  {
   "cell_type": "code",
   "execution_count": 10,
   "id": "53a7159e-40a1-44b9-94f8-2375be0a2453",
   "metadata": {},
   "outputs": [
    {
     "name": "stdout",
     "output_type": "stream",
     "text": [
      "(1,)\n",
      "(2,)\n",
      "(-3,)\n"
     ]
    }
   ],
   "source": [
    "def sort_f(*args):\n",
    "    print(args)\n",
    "    return args\n",
    "[1, 2, -3].sort(key=sort_f)"
   ]
  },
  {
   "cell_type": "code",
   "execution_count": 4,
   "id": "ce713743-b71f-4855-b314-4bacae1d3e08",
   "metadata": {},
   "outputs": [
    {
     "name": "stdout",
     "output_type": "stream",
     "text": [
      "Help on method_descriptor:\n",
      "\n",
      "sort(self, /, *, key=None, reverse=False)\n",
      "    Sort the list in ascending order and return None.\n",
      "    \n",
      "    The sort is in-place (i.e. the list itself is modified) and stable (i.e. the\n",
      "    order of two equal elements is maintained).\n",
      "    \n",
      "    If a key function is given, apply it once to each list item and sort them,\n",
      "    ascending or descending, according to their function values.\n",
      "    \n",
      "    The reverse flag can be set to sort in descending order.\n",
      "\n"
     ]
    }
   ],
   "source": [
    "help(list.sort)"
   ]
  },
  {
   "cell_type": "code",
   "execution_count": 5,
   "id": "d65c7181-731a-4c4e-97e3-896530331ed9",
   "metadata": {},
   "outputs": [
    {
     "name": "stdout",
     "output_type": "stream",
     "text": [
      "None\n"
     ]
    }
   ],
   "source": [
    "print([1, 2, -1].sort())"
   ]
  },
  {
   "cell_type": "code",
   "execution_count": 8,
   "id": "f2cb7f62-ff3c-4cf2-a2f5-8725ff94fa74",
   "metadata": {},
   "outputs": [
    {
     "name": "stdout",
     "output_type": "stream",
     "text": [
      "[-3, 1, 2]\n"
     ]
    }
   ],
   "source": [
    "wait_sorting_list = [1, 2, -3]\n",
    "wait_sorting_list.sort(key=sort_f)\n",
    "print(wait_sorting_list)\n"
   ]
  }
 ],
 "metadata": {
  "kernelspec": {
   "display_name": "Python 3 (ipykernel)",
   "language": "python",
   "name": "python3"
  },
  "language_info": {
   "codemirror_mode": {
    "name": "ipython",
    "version": 3
   },
   "file_extension": ".py",
   "mimetype": "text/x-python",
   "name": "python",
   "nbconvert_exporter": "python",
   "pygments_lexer": "ipython3",
   "version": "3.11.3"
  }
 },
 "nbformat": 4,
 "nbformat_minor": 5
}
