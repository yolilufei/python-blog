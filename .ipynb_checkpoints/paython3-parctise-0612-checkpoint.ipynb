{
 "cells": [
  {
   "cell_type": "code",
   "execution_count": null,
   "id": "0371d721-7e21-426f-b82c-cac272d08509",
   "metadata": {},
   "outputs": [],
   "source": [
    "# insert sort\n",
    "# def c_insert_sort(random_sort_list):\n",
    "#     for i in range(1, len(random_sort_list)):\n",
    "#         v = random_sort_list[i]\n",
    "#         k = i - 1\n",
    "#         while k >= 0:\n",
    "#             t = random_sort_list[k]\n",
    "#             if random_sort_list[k] < v:\n",
    "#                 k -= 1\n",
    "#             else:\n",
    "#                 random_sort_list[k] = v\n",
    "#                 random_sort_list[i] = t\n",
    "#     print(random_sort_list)\n",
    "#     for a in random_sort_list:\n",
    "#         print(a)\n",
    "\n",
    "print('hello')\n",
    "# c_insert_sort([1, 2, 3, 5, 4])"
   ]
  },
  {
   "cell_type": "code",
   "execution_count": null,
   "id": "f6c36e54-3d5d-4dab-b4be-9418d752e319",
   "metadata": {},
   "outputs": [],
   "source": [
    "a = 123\n",
    "print(a)"
   ]
  },
  {
   "cell_type": "code",
   "execution_count": null,
   "id": "e5bd3108-660e-455d-b7b5-58885299be73",
   "metadata": {},
   "outputs": [],
   "source": []
  }
 ],
 "metadata": {
  "kernelspec": {
   "display_name": "Python 3 (ipykernel)",
   "language": "python",
   "name": "python3"
  },
  "language_info": {
   "codemirror_mode": {
    "name": "ipython",
    "version": 3
   },
   "file_extension": ".py",
   "mimetype": "text/x-python",
   "name": "python",
   "nbconvert_exporter": "python",
   "pygments_lexer": "ipython3",
   "version": "3.11.3"
  }
 },
 "nbformat": 4,
 "nbformat_minor": 5
}
