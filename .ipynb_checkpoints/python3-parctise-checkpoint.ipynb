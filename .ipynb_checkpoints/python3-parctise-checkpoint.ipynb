{
 "cells": [
  {
   "cell_type": "code",
   "execution_count": null,
   "id": "a2313dad-9691-4cd3-b97f-b663f59b1ead",
   "metadata": {},
   "outputs": [],
   "source": [
    "# sqrt\n",
    "import math\n",
    "def get_sqrt():\n",
    "    try:\n",
    "        num = int(input('请输入一个数字'))\n",
    "        sqrt_num = math.sqrt(num)\n",
    "        print(sqrt_num)\n",
    "    except ValueError:\n",
    "        print('请输入数字')\n",
    "        get_sqrt()\n",
    "    except NameError as ne:\n",
    "        print(ne)\n",
    "get_sqrt()"
   ]
  },
  {
   "cell_type": "code",
   "execution_count": 9,
   "id": "d305e5ce-c5ee-4bc1-84fd-c020bfb6014f",
   "metadata": {},
   "outputs": [
    {
     "name": "stdin",
     "output_type": "stream",
     "text": [
      "输入三角形第一边长:  5\n",
      "输入三角形第一边长:  6\n",
      "输入三角形第一边长:  7\n"
     ]
    },
    {
     "name": "stdout",
     "output_type": "stream",
     "text": [
      "14.696938456699069\n"
     ]
    }
   ],
   "source": [
    "# calcuate the area of triangle\n",
    "def cal_area_of_triangle():\n",
    "    first_side = int(input('输入三角形第一边长: '))\n",
    "    second_side = int(input('输入三角形第一边长: '))\n",
    "    third_side = int(input('输入三角形第一边长: '))\n",
    "    half_perimeter = (first_side + second_side + third_side) / 2\n",
    "    area = (half_perimeter*(half_perimeter - first_side)*(half_perimeter - second_side)*(half_perimeter - third_side)) ** 0.5\n",
    "    print(area)\n",
    "    \n",
    "cal_area_of_triangle()\n"
   ]
  },
  {
   "cell_type": "code",
   "execution_count": 20,
   "id": "044d2f16-fb02-424e-9ab2-6aea1692790e",
   "metadata": {},
   "outputs": [
    {
     "name": "stdin",
     "output_type": "stream",
     "text": [
      "输入圆的半径:  12\n"
     ]
    },
    {
     "name": "stdout",
     "output_type": "stream",
     "text": [
      "452.4411850023058\n"
     ]
    }
   ],
   "source": [
    "# calcuate the area of circle\n",
    "PI = 3.14195267362712363813613\n",
    "def cal_area_of_circle():\n",
    "    radius = int(input('输入圆的半径: '))\n",
    "    area = PI * radius * radius\n",
    "    print(area)\n",
    "\n",
    "cal_area_of_circle()"
   ]
  },
  {
   "cell_type": "code",
   "execution_count": 26,
   "id": "c78ff7bd-4a5a-4d1d-a088-619973f696a6",
   "metadata": {},
   "outputs": [
    {
     "name": "stdout",
     "output_type": "stream",
     "text": [
      "1\n",
      "4\n",
      "3\n"
     ]
    }
   ],
   "source": [
    "# generate random\n",
    "import random\n",
    "def generate_random(*args):\n",
    "    for k in args:\n",
    "           print(k)\n",
    "    \n",
    "generate_random()\n",
    "generate_random(1, 4, 3)"
   ]
  },
  {
   "cell_type": "code",
   "execution_count": 28,
   "id": "fa42e9a8-e562-438c-a566-95f66ce5e5bb",
   "metadata": {},
   "outputs": [
    {
     "name": "stdout",
     "output_type": "stream",
     "text": [
      "x:10, y:20\n",
      "x:20, y:10\n"
     ]
    }
   ],
   "source": [
    "# change variable`s value with each other\n",
    "x = 10\n",
    "y = 20\n",
    "print('x:{0}, y:{1}'.format(x, y))\n",
    "x, y = y, x\n",
    "print('x:{0}, y:{1}'.format(x, y))"
   ]
  },
  {
   "cell_type": "code",
   "execution_count": 30,
   "id": "f52999d8-abe6-4faa-a7fd-d05d5f40ed39",
   "metadata": {},
   "outputs": [
    {
     "name": "stdin",
     "output_type": "stream",
     "text": [
      "请输入一个数字 11\n"
     ]
    },
    {
     "name": "stdout",
     "output_type": "stream",
     "text": [
      "passive\n"
     ]
    }
   ],
   "source": [
    "# if statement\n",
    "num = int(input('请输入一个数字'))\n",
    "if num > 0:\n",
    "    print('passive')\n",
    "elif num <= 0:\n",
    "    print('negative')\n",
    "else:\n",
    "    print('zero')"
   ]
  },
  {
   "cell_type": "code",
   "execution_count": 31,
   "id": "29d33a6e-2487-4da9-ad18-601297af40d6",
   "metadata": {},
   "outputs": [
    {
     "name": "stdout",
     "output_type": "stream",
     "text": [
      "odd\n"
     ]
    }
   ],
   "source": [
    "# odd even\n",
    "def odd_or_even(num):\n",
    "    if num % 2 == 0:\n",
    "        print('odd')\n",
    "    else:\n",
    "        print('even')\n",
    "\n",
    "odd_or_even(112412)"
   ]
  },
  {
   "cell_type": "code",
   "execution_count": 34,
   "id": "a0ba9ce6-bc7c-4c8e-ab35-cd779895c6e8",
   "metadata": {},
   "outputs": [
    {
     "name": "stdout",
     "output_type": "stream",
     "text": [
      "2 是质数\n",
      "3 是质数\n",
      "5 是质数\n",
      "7 是质数\n",
      "11 是质数\n",
      "13 是质数\n",
      "17 是质数\n",
      "19 是质数\n",
      "23 是质数\n",
      "29 是质数\n",
      "31 是质数\n",
      "37 是质数\n",
      "41 是质数\n",
      "43 是质数\n",
      "47 是质数\n",
      "53 是质数\n",
      "59 是质数\n",
      "61 是质数\n",
      "67 是质数\n",
      "71 是质数\n",
      "73 是质数\n",
      "79 是质数\n",
      "83 是质数\n",
      "89 是质数\n",
      "97 是质数\n"
     ]
    }
   ],
   "source": [
    "# find prime number\n",
    "def find_prime_number(start, end):\n",
    "    for num in range(start, end + 1):\n",
    "        if num > 1:\n",
    "            for div in range(2, num):\n",
    "                if num % div == 0:\n",
    "                    # print(\"{} 不是质数\".format(num))\n",
    "                    break\n",
    "            else:\n",
    "                print(\"%d 是质数\" %(num))\n",
    "\n",
    "find_prime_number(end = 100, start = 1)"
   ]
  },
  {
   "cell_type": "code",
   "execution_count": 48,
   "id": "97bb02d7-0252-4203-af06-09ad18b25d53",
   "metadata": {},
   "outputs": [
    {
     "name": "stdout",
     "output_type": "stream",
     "text": [
      "1 x 1 = 1    \n",
      "1 x 2 = 2    2 x 2 = 4    \n",
      "1 x 3 = 3    2 x 3 = 6    3 x 3 = 9    \n",
      "1 x 4 = 4    2 x 4 = 8    3 x 4 = 12    4 x 4 = 16    \n",
      "1 x 5 = 5    2 x 5 = 10    3 x 5 = 15    4 x 5 = 20    5 x 5 = 25    \n",
      "1 x 6 = 6    2 x 6 = 12    3 x 6 = 18    4 x 6 = 24    5 x 6 = 30    6 x 6 = 36    \n",
      "1 x 7 = 7    2 x 7 = 14    3 x 7 = 21    4 x 7 = 28    5 x 7 = 35    6 x 7 = 42    7 x 7 = 49    \n",
      "1 x 8 = 8    2 x 8 = 16    3 x 8 = 24    4 x 8 = 32    5 x 8 = 40    6 x 8 = 48    7 x 8 = 56    8 x 8 = 64    \n",
      "1 x 9 = 9    2 x 9 = 18    3 x 9 = 27    4 x 9 = 36    5 x 9 = 45    6 x 9 = 54    7 x 9 = 63    8 x 9 = 72    9 x 9 = 81    \n"
     ]
    }
   ],
   "source": [
    "# multiplication table\n",
    "def create_multiplication_table():\n",
    "    space = '  '\n",
    "    for p in range(1, 10):\n",
    "        for c in range(1, p + 1):\n",
    "            v = p*c\n",
    "            print('{0} x {1} = {2}'.format(c, p, v), end='    ')\n",
    "        else:\n",
    "            print()\n",
    "\n",
    "create_multiplication_table()"
   ]
  },
  {
   "cell_type": "code",
   "execution_count": 40,
   "id": "582b8a98-c79f-4af4-a270-6db940afd87b",
   "metadata": {},
   "outputs": [
    {
     "name": "stdout",
     "output_type": "stream",
     "text": [
      "1\n",
      "2\n",
      "3\n",
      "4\n"
     ]
    }
   ],
   "source": [
    "for a in range(1, 5):\n",
    "    print(a)"
   ]
  },
  {
   "cell_type": "code",
   "execution_count": 50,
   "id": "f14e149b-6b37-4914-827f-cdad0b6b0ff2",
   "metadata": {},
   "outputs": [
    {
     "ename": "TypeError",
     "evalue": "ord() expected a character, but string of length 3 found",
     "output_type": "error",
     "traceback": [
      "\u001b[0;31m---------------------------------------------------------------------------\u001b[0m",
      "\u001b[0;31mTypeError\u001b[0m                                 Traceback (most recent call last)",
      "Cell \u001b[0;32mIn[50], line 1\u001b[0m\n\u001b[0;32m----> 1\u001b[0m \u001b[38;5;28;43mord\u001b[39;49m\u001b[43m(\u001b[49m\u001b[38;5;124;43m'\u001b[39;49m\u001b[38;5;124;43mcaa\u001b[39;49m\u001b[38;5;124;43m'\u001b[39;49m\u001b[43m)\u001b[49m\n",
      "\u001b[0;31mTypeError\u001b[0m: ord() expected a character, but string of length 3 found"
     ]
    }
   ],
   "source": [
    "ord('caa')"
   ]
  },
  {
   "cell_type": "code",
   "execution_count": 53,
   "id": "31e8c2c6-69a9-467e-b67b-fefb4e427bfc",
   "metadata": {},
   "outputs": [
    {
     "name": "stdout",
     "output_type": "stream",
     "text": [
      "     June 2015\n",
      "Mo Tu We Th Fr Sa Su\n",
      " 1  2  3  4  5  6  7\n",
      " 8  9 10 11 12 13 14\n",
      "15 16 17 18 19 20 21\n",
      "22 23 24 25 26 27 28\n",
      "29 30\n",
      "\n"
     ]
    }
   ],
   "source": [
    "# calendar\n",
    "from calendar import month\n",
    "print(month(2015, 6))"
   ]
  },
  {
   "cell_type": "code",
   "execution_count": 54,
   "id": "af7a1b9f-6abf-41ba-9036-b1178943f232",
   "metadata": {},
   "outputs": [
    {
     "data": {
      "text/plain": [
       "['__add__',\n",
       " '__class__',\n",
       " '__contains__',\n",
       " '__delattr__',\n",
       " '__dir__',\n",
       " '__doc__',\n",
       " '__eq__',\n",
       " '__format__',\n",
       " '__ge__',\n",
       " '__getattribute__',\n",
       " '__getitem__',\n",
       " '__getnewargs__',\n",
       " '__getstate__',\n",
       " '__gt__',\n",
       " '__hash__',\n",
       " '__init__',\n",
       " '__init_subclass__',\n",
       " '__iter__',\n",
       " '__le__',\n",
       " '__len__',\n",
       " '__lt__',\n",
       " '__mod__',\n",
       " '__mul__',\n",
       " '__ne__',\n",
       " '__new__',\n",
       " '__reduce__',\n",
       " '__reduce_ex__',\n",
       " '__repr__',\n",
       " '__rmod__',\n",
       " '__rmul__',\n",
       " '__setattr__',\n",
       " '__sizeof__',\n",
       " '__str__',\n",
       " '__subclasshook__',\n",
       " 'capitalize',\n",
       " 'casefold',\n",
       " 'center',\n",
       " 'count',\n",
       " 'encode',\n",
       " 'endswith',\n",
       " 'expandtabs',\n",
       " 'find',\n",
       " 'format',\n",
       " 'format_map',\n",
       " 'index',\n",
       " 'isalnum',\n",
       " 'isalpha',\n",
       " 'isascii',\n",
       " 'isdecimal',\n",
       " 'isdigit',\n",
       " 'isidentifier',\n",
       " 'islower',\n",
       " 'isnumeric',\n",
       " 'isprintable',\n",
       " 'isspace',\n",
       " 'istitle',\n",
       " 'isupper',\n",
       " 'join',\n",
       " 'ljust',\n",
       " 'lower',\n",
       " 'lstrip',\n",
       " 'maketrans',\n",
       " 'partition',\n",
       " 'removeprefix',\n",
       " 'removesuffix',\n",
       " 'replace',\n",
       " 'rfind',\n",
       " 'rindex',\n",
       " 'rjust',\n",
       " 'rpartition',\n",
       " 'rsplit',\n",
       " 'rstrip',\n",
       " 'split',\n",
       " 'splitlines',\n",
       " 'startswith',\n",
       " 'strip',\n",
       " 'swapcase',\n",
       " 'title',\n",
       " 'translate',\n",
       " 'upper',\n",
       " 'zfill']"
      ]
     },
     "execution_count": 54,
     "metadata": {},
     "output_type": "execute_result"
    }
   ],
   "source": [
    "dir(str)"
   ]
  },
  {
   "cell_type": "code",
   "execution_count": 4,
   "id": "34de1e6e-3014-4e42-ada9-b08800c80174",
   "metadata": {},
   "outputs": [
    {
     "name": "stdout",
     "output_type": "stream",
     "text": [
      "[9, 18, 27, 6, 16, 26, 7, 19, 30, 12, 24, 8, 22, 5, 23]\n"
     ]
    }
   ],
   "source": [
    "# joseph game of dead or live\n",
    "def joseph_game_of_dead_or_live():\n",
    "    total = list(range(1, 31))\n",
    "    curIndex = 1\n",
    "    jumpedNumber = []\n",
    "    newLen = len(total)\n",
    "    while newLen > 15:\n",
    "        for i in total:\n",
    "            # print(i, curIndex)\n",
    "            if i == None:\n",
    "                continue\n",
    "            if curIndex == 9:\n",
    "                jumpedNumber.append(i)\n",
    "                total[i - 1] = None\n",
    "                newLen -= 1\n",
    "                # print(total)\n",
    "                curIndex = 1\n",
    "            else:\n",
    "                curIndex += 1\n",
    "\n",
    "    print(jumpedNumber)\n",
    "joseph_game_of_dead_or_live()"
   ]
  },
  {
   "cell_type": "code",
   "execution_count": 10,
   "id": "030e9591-887b-45ad-9053-9808b4bf97c5",
   "metadata": {},
   "outputs": [
    {
     "name": "stdout",
     "output_type": "stream",
     "text": [
      "3121\n"
     ]
    }
   ],
   "source": [
    "# five persons split fishes\n",
    "def five_persons_split_fishes():\n",
    "    fish, enough = 1, False\n",
    "    while enough == False:\n",
    "        total = fish\n",
    "        for _ in range(5):\n",
    "            if (total - 1) % 5 == 0:\n",
    "                total = (total - 1) // 5 * 4\n",
    "            else:\n",
    "                break\n",
    "        else:\n",
    "             enough = True\n",
    "             break\n",
    "        fish += 1\n",
    "    print(fish)\n",
    "\n",
    "five_persons_split_fishes()\n",
    "        "
   ]
  },
  {
   "cell_type": "code",
   "execution_count": 15,
   "id": "7518e515-f36b-4df1-a904-255c7c2680c3",
   "metadata": {},
   "outputs": [
    {
     "name": "stdout",
     "output_type": "stream",
     "text": [
      "15\n",
      "14\n",
      "13\n",
      "12\n",
      "11\n",
      "10\n"
     ]
    }
   ],
   "source": [
    "lst = [10, 11, 12, 13, 14, 15]\n",
    "r = reversed(lst)\n",
    "for a in r:\n",
    "    print(a)"
   ]
  },
  {
   "cell_type": "code",
   "execution_count": 20,
   "id": "bfe6398d-5a70-40d4-9502-68330244c581",
   "metadata": {},
   "outputs": [
    {
     "name": "stdout",
     "output_type": "stream",
     "text": [
      "100% "
     ]
    }
   ],
   "source": [
    "import time\n",
    "\n",
    "for i in range(101):\n",
    "    print(\"\\r{}%\".format(i),end=' ')\n",
    "    time.sleep(0.05)"
   ]
  },
  {
   "cell_type": "code",
   "execution_count": 54,
   "id": "5888891e-54f3-477f-806f-830654d1fea0",
   "metadata": {},
   "outputs": [
    {
     "name": "stdout",
     "output_type": "stream",
     "text": [
      "[1, 2, 3, 4, 5]\n",
      "mid 是 2, 值 是 3, False\n",
      "[3, 4, 5]\n",
      "mid 是 1, 值 是 4, True\n",
      "True\n"
     ]
    }
   ],
   "source": [
    "# binary search\n",
    "\n",
    "class NotFoundException(Exception):\n",
    "    def __init__(self, msg = 'not found'):\n",
    "        self.name = msg\n",
    "        print(msg)\n",
    "\n",
    "def binary_search(arr, target):\n",
    "    isFind = False\n",
    "    if type(arr) != list:\n",
    "        print(\"请传入列表类型参数\")\n",
    "        return isFind\n",
    "    print(arr)\n",
    "    if len(arr) == 1:\n",
    "        if arr[0] != target:\n",
    "            raise NotFoundException()\n",
    "        else:\n",
    "            isFind = True\n",
    "            return isFind\n",
    "    mid = int(len(arr) / 2)\n",
    "    print(f\"mid 是 {mid}, 值 是 {arr[mid]}, {arr[mid] == target}\")\n",
    "    if arr[mid] < target:\n",
    "        isFind = binary_search(arr[mid:len(arr)], target)\n",
    "    elif arr[mid] > target:\n",
    "        isFind = binary_search(arr[::mid], target)\n",
    "    elif arr[mid] == target:\n",
    "        isFind = True\n",
    "    else:\n",
    "        raise NotFoundException()\n",
    "        \n",
    "    return isFind\n",
    "find = binary_search([1, 2, 3, 4, 5], 4)    \n",
    "print(find)"
   ]
  },
  {
   "cell_type": "code",
   "execution_count": null,
   "id": "aba015d6-1e91-44f8-9fc7-287541fca3df",
   "metadata": {},
   "outputs": [],
   "source": []
  },
  {
   "cell_type": "code",
   "execution_count": null,
   "id": "9215a68d-f4a9-4dab-9319-8a787a8d0a68",
   "metadata": {},
   "outputs": [],
   "source": []
  }
 ],
 "metadata": {
  "kernelspec": {
   "display_name": "Python 3 (ipykernel)",
   "language": "python",
   "name": "python3"
  },
  "language_info": {
   "codemirror_mode": {
    "name": "ipython",
    "version": 3
   },
   "file_extension": ".py",
   "mimetype": "text/x-python",
   "name": "python",
   "nbconvert_exporter": "python",
   "pygments_lexer": "ipython3",
   "version": "3.11.3"
  }
 },
 "nbformat": 4,
 "nbformat_minor": 5
}
